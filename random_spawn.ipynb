{
 "cells": [
  {
   "cell_type": "markdown",
   "metadata": {},
   "source": [
    "# ¿Aceptarías 1 palo USD a cambio de spawnear en un lugar aleatorio de la Tierra?"
   ]
  },
  {
   "cell_type": "markdown",
   "metadata": {},
   "source": [
    "Primero, generamos coordenadas aleatorias de latitud y longitud teniendo en cuenta lo siguiente:\n",
    "\n",
    "- Para la longitud, nos generamos puntos aleatorios uniformemente distribuidos entre los -180 y 180 grados.\n",
    "- Para la latitud, no podemos simplemente generar puntos aleatorios uniformemente distribuidos entre los -90 y 90 grados. Si hiciéramos eso, estaríamos sobrerrepresentando las regiones polares porque cada grado de latitud en el ecuador cubre una superficie mucho mayor que cada grado en los polos. En términos de superficie terrestre, cada franja de latitud cubre un área proporcional a $cos(\\phi)$. Por lo tanto, una distribución verdaderamente uniforme en la superficie terrestre debería generar $\\phi$ según:\n",
    "\n",
    "$$\\phi = arcsin(rand(-1,1))$$\n"
   ]
  },
  {
   "cell_type": "code",
   "execution_count": 3,
   "metadata": {},
   "outputs": [],
   "source": [
    "#Importamos librarías\n",
    "\n",
    "import geopandas as gpd\n",
    "import pandas as pd\n",
    "import random\n",
    "import numpy as np\n",
    "from shapely.geometry import Point\n",
    "\n",
    "def coordenadas(n):\n",
    "    data = {\n",
    "        \"latitud\": np.degrees(np.arcsin([random.uniform(-1, 1) for _ in range(n)])), \n",
    "        \"longitud\": [random.uniform(-180, 180) for _ in range(n)]\n",
    "    }\n",
    "\n",
    "    df = pd.DataFrame(data)\n",
    "    return df\n",
    "\n",
    "num_coordenadas = 100\n",
    "\n",
    "df_coordenadas = coordenadas(num_coordenadas)\n",
    "\n",
    "import folium\n",
    "\n",
    "mapa = folium.Map(location=[df_coordenadas['latitud'].mean(), df_coordenadas['longitud'].mean()], zoom_start=12)\n",
    "\n",
    "for _, row in df_coordenadas.iterrows():\n",
    "    if pd.notna(row['latitud']) and pd.notna(row['longitud']):\n",
    "        folium.Marker(location=[row['latitud'], row['longitud']], popup=f\"{row['latitud']}, {row['longitud']}\").add_to(mapa)\n",
    "\n",
    "mapa.save('mapa_100.html')"
   ]
  },
  {
   "cell_type": "markdown",
   "metadata": {},
   "source": [
    "Ahora, considerando que cerca del 70% de la superficie terrestre está cubierta por agua, vamos a incluir en el juego sólo la parte que no lo esté. "
   ]
  },
  {
   "cell_type": "code",
   "execution_count": 6,
   "metadata": {},
   "outputs": [
    {
     "name": "stdout",
     "output_type": "stream",
     "text": [
      "      latitud    longitud\n",
      "0   24.571225   -5.241438\n",
      "1  -26.639618  142.900115\n",
      "2  -23.902363  -57.823922\n",
      "3    8.987975   38.829552\n",
      "4   -8.639054  -71.589191\n",
      "..        ...         ...\n",
      "95  66.660545  176.824707\n",
      "96  25.063322   81.009526\n",
      "97  62.847730   10.910535\n",
      "98 -49.402971   69.407390\n",
      "99  30.471961   -2.235605\n",
      "\n",
      "[100 rows x 2 columns]\n"
     ]
    }
   ],
   "source": [
    "#Importamos librarías\n",
    "\n",
    "import geopandas as gpd\n",
    "from shapely.geometry import Point\n",
    "\n",
    "land = gpd.read_file(\"C:/Users/Usuario/OneDrive/Documentos/Tiktok/ne_50m_land.shp\") \n",
    "\n",
    "def coordenadas_tierra(n):\n",
    "    data = {\"latitud\": [], \"longitud\": []}\n",
    "\n",
    "    while len(data[\"latitud\"]) < n:\n",
    "        lat = np.degrees(np.arcsin(random.uniform(-1, 1)))  \n",
    "        lon = random.uniform(-180, 180)\n",
    "        point = Point(lon, lat)  \n",
    "\n",
    "        if land.contains(point).any():\n",
    "            data[\"latitud\"].append(lat)\n",
    "            data[\"longitud\"].append(lon)\n",
    "\n",
    "    return pd.DataFrame(data)\n",
    "\n",
    "num_coordenadas = 100\n",
    "df_coordenadas_tierra = coordenadas_tierra(num_coordenadas)\n",
    "print(df_coordenadas_tierra)\n"
   ]
  },
  {
   "cell_type": "markdown",
   "metadata": {},
   "source": [
    "Luego, graficamos nuestras coordenadas en el mapa y lo guardamos:"
   ]
  },
  {
   "cell_type": "code",
   "execution_count": 15,
   "metadata": {},
   "outputs": [],
   "source": [
    "mapa = folium.Map(location=[df_coordenadas['latitud'].mean(), df_coordenadas['longitud'].mean()], zoom_start=12)\n",
    "\n",
    "for _, row in df_coordenadas.iterrows():\n",
    "    if pd.notna(row['latitud']) and pd.notna(row['longitud']):\n",
    "        folium.Marker(location=[row['latitud'], row['longitud']], popup=f\"{row['latitud']}, {row['longitud']}\").add_to(mapa)\n",
    "\n",
    "mapa.save('mapa_100_tierra.html')\n"
   ]
  },
  {
   "cell_type": "code",
   "execution_count": 12,
   "metadata": {},
   "outputs": [],
   "source": [
    "import requests\n",
    "\n",
    "def sobrevive(lat, lon, radius=30000):\n",
    "    \"\"\"Verifica si hay asentamientos humanos en un radio de X metros usando OpenStreetMap\"\"\"\n",
    "    overpass_url = \"http://overpass-api.de/api/interpreter\"\n",
    "    query = f\"\"\"\n",
    "    [out:json];\n",
    "    (\n",
    "      node(around:{radius},{lat},{lon})[\"place\"];\n",
    "      way(around:{radius},{lat},{lon})[\"building\"];\n",
    "      relation(around:{radius},{lat},{lon})[\"place\"];\n",
    "    );\n",
    "    out center;\n",
    "    \"\"\"\n",
    "    response = requests.get(overpass_url, params={\"data\": query})\n",
    "    data = response.json()\n",
    "    return len(data.get(\"elements\", [])) > 0\n",
    "\n",
    "lat = df_coordenadas[\"latitud\"]\n",
    "lon = df_coordenadas[\"longitud\"]\n",
    "\n",
    "df_coordenadas[\"habitadas\"] = df_coordenadas.apply(lambda row: sobrevive(row[\"latitud\"], row[\"longitud\"]), axis=1)\n",
    "\n"
   ]
  },
  {
   "cell_type": "code",
   "execution_count": 13,
   "metadata": {},
   "outputs": [
    {
     "name": "stdout",
     "output_type": "stream",
     "text": [
      "      latitud    longitud  habitadas\n",
      "0   75.829694 -113.821418       True\n",
      "1   46.653558  -91.286719       True\n",
      "2   42.705280   57.407420      False\n",
      "3  -25.118014  137.580280      False\n",
      "4   13.874530  -84.685630       True\n",
      "..        ...         ...        ...\n",
      "95  54.245141  123.423678       True\n",
      "96  58.746500 -114.972356       True\n",
      "97 -17.560063  125.455228       True\n",
      "98 -72.152860  105.513080      False\n",
      "99  28.714606   16.786039      False\n",
      "\n",
      "[100 rows x 3 columns]\n"
     ]
    }
   ],
   "source": [
    "\n",
    "print(df_coordenadas)"
   ]
  },
  {
   "cell_type": "code",
   "execution_count": null,
   "metadata": {},
   "outputs": [
    {
     "data": {
      "image/png": "[encoded data removed]",
      "text/plain": [
       "<Figure size 600x600 with 1 Axes>"
      ]
     },
     "metadata": {},
     "output_type": "display_data"
    },
    {
     "name": "stdout",
     "output_type": "stream",
     "text": [
      "Proporción de True: 77.00%\n"
     ]
    }
   ],
   "source": [
    "import matplotlib.pyplot as plt\n",
    "\n",
    "proporcion_true = df_coordenadas[\"habitadas\"].mean()\n",
    "\n",
    "# Grafico\n",
    "labels = [\"Sí\", \"No\"]\n",
    "sizes = [proporcion_true, 1 - proporcion_true]\n",
    "colors = [\"skyblue\", \"lightcoral\"]\n",
    "\n",
    "plt.figure(figsize=(6, 6))\n",
    "plt.pie(sizes, labels=labels, autopct=\"%1.1f%%\", colors=colors, startangle=140)\n",
    "plt.title(\"¿Hay asentamientos humanos en un radio de 30km?\")\n",
    "plt.show()\n",
    "\n",
    "print(f\"Proporción de True: {proporcion_true:.2%}\")\n"
   ]
  }
 ],
 "metadata": {
  "kernelspec": {
   "display_name": "Python 3",
   "language": "python",
   "name": "python3"
  },
  "language_info": {
   "codemirror_mode": {
    "name": "ipython",
    "version": 3
   },
   "file_extension": ".py",
   "mimetype": "text/x-python",
   "name": "python",
   "nbconvert_exporter": "python",
   "pygments_lexer": "ipython3",
   "version": "3.11.4"
  }
 },
 "nbformat": 4,
 "nbformat_minor": 2
}
